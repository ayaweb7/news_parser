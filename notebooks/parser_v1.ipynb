{
 "cells": [
  {
   "cell_type": "markdown",
   "id": "ef82138d-4ab8-49a7-bf24-b778a55ec277",
   "metadata": {},
   "source": [
    "# News Parsing Version 1"
   ]
  },
  {
   "cell_type": "markdown",
   "id": "73c5ddea-8284-4e9c-95d8-5e8cfe6f7f72",
   "metadata": {},
   "source": [
    "## Рекомендуемая структура проекта"
   ]
  },
  {
   "cell_type": "code",
   "execution_count": null,
   "id": "27283c19-c0ee-4dc5-97fa-ab63752b6f48",
   "metadata": {},
   "outputs": [],
   "source": [
    "news_parser/\n",
    "│\n",
    "├── .env                    # Секретные переменные (в .gitignore)\n",
    "├── .gitignore              # Игнорируемые файлы\n",
    "├── requirements.txt        # Зависимости\n",
    "├── pyproject.toml          # Альтернатива requirements.txt (опционально)\n",
    "│\n",
    "├── config/                 \n",
    "│   ├── __init__.py         # Пустой файл для импортов\n",
    "│   ├── settings.py         # Общие настройки (несекретные)\n",
    "│   ├── telegram.py         # Настройки бота\n",
    "│   └── sites/              # Конфиги для разных сайтов\n",
    "│       ├── vc_ru.json      \n",
    "│       └── rbc.json        \n",
    "│\n",
    "├── data/\n",
    "│   ├── raw/                # Сырые данные (кеш HTML)\n",
    "│   │   ├── vc_ru/         \n",
    "│   │   └── rbc/           \n",
    "│   │\n",
    "│   ├── interim/            # Промежуточные данные\n",
    "│   │   └── dynamic_page.html  \n",
    "│   │\n",
    "│   ├── processed/          # Обработанные данные\n",
    "│   │   ├── articles.csv    \n",
    "│   │   └── articles.json   \n",
    "│   │\n",
    "│   ├── encrypted/          # Зашифрованные данные (если нужно)\n",
    "│   ├── backups/            # Автоматические бэкапы\n",
    "│   └── state/              # Состояния для возобновления\n",
    "│       └── last_failure.pkl  \n",
    "│\n",
    "├── logs/                   # Логи работы\n",
    "│   ├── parsing_20240515.log  \n",
    "│   └── errors.log          \n",
    "│\n",
    "├── parsers/                # Модули парсинга\n",
    "│   ├── __init__.py         \n",
    "│   ├── base_parser.py      # Базовый класс\n",
    "│   ├── vc_ru.py           # Парсер для VC.ru\n",
    "│   ├── rbc.py             # Парсер для RBC\n",
    "│   └── utils/             \n",
    "│       ├── anti_block.py   # Обход блокировок\n",
    "│       └── helpers.py      # Вспомогательные функции\n",
    "│\n",
    "├── storage/                # Работа с хранилищами\n",
    "│   ├── __init__.py         \n",
    "│   ├── local.py           # CSV/JSON\n",
    "│   ├── google_sheets.py   \n",
    "│   └── database.py        # Для будущей БД\n",
    "│\n",
    "├── notifications/          # Уведомления\n",
    "│   ├── __init__.py         \n",
    "│   ├── telegram.py        \n",
    "│   └── email.py           # Резервный канал\n",
    "│\n",
    "├── main.py                 # Точка входа\n",
    "└── run.bat                 # Скрипт запуска (Windows)"
   ]
  },
  {
   "cell_type": "markdown",
   "id": "7c7f3c8f-9bc4-4f1b-b153-abed18493f18",
   "metadata": {},
   "source": [
    "### Ключевые особенности"
   ]
  },
  {
   "cell_type": "markdown",
   "id": "fb89a853-936a-4d1b-bb3b-10b12f1388dc",
   "metadata": {},
   "source": [
    "#### 1. Безопасность данных:\n",
    "- Все секреты (токены, API-ключи) хранятся в .env (добавлен в .gitignore)\n",
    "- Пример .env:"
   ]
  },
  {
   "cell_type": "code",
   "execution_count": null,
   "id": "c6774781-87b4-4fd5-8b64-9cae2989d891",
   "metadata": {},
   "outputs": [],
   "source": [
    "# ini\n",
    "TELEGRAM_TOKEN=your_telegram_token\n",
    "GSHEETS_CREDENTIALS=credentials.json\n",
    "DB_PASSWORD=secret"
   ]
  },
  {
   "cell_type": "markdown",
   "id": "13e9412d-65b9-4fc8-8cae-50dc83ccaed2",
   "metadata": {},
   "source": [
    "#### 2. Резервное копирование:\n",
    "- Автоматические бэкапы в data/backups/ с датой в имени файла:"
   ]
  },
  {
   "cell_type": "code",
   "execution_count": null,
   "id": "331a3c25-3c1c-4dc1-b63e-c1f3641a1120",
   "metadata": {},
   "outputs": [],
   "source": [
    "# python\n",
    "shutil.copy2(\"data/processed/articles.csv\", f\"data/backups/articles_{datetime.now().date()}.csv\")"
   ]
  },
  {
   "cell_type": "markdown",
   "id": "75790aab-95da-4cb4-8b94-53682c258942",
   "metadata": {},
   "source": [
    "#### 3. Шифрование (опционально):\n",
    "- Для чувствительных данных используйте data/encrypted/ с библиотекой cryptography."
   ]
  },
  {
   "cell_type": "code",
   "execution_count": null,
   "id": "2434531b-e455-42fd-966d-02a7631997fc",
   "metadata": {},
   "outputs": [],
   "source": []
  },
  {
   "cell_type": "markdown",
   "id": "afc95fa2-34ec-4830-895d-229603a780b1",
   "metadata": {},
   "source": [
    "#### 4. Логирование:\n",
    "- Настройка в main.py:"
   ]
  },
  {
   "cell_type": "code",
   "execution_count": null,
   "id": "1b81dfe4-ad02-40c8-b276-ad73663d22a6",
   "metadata": {},
   "outputs": [],
   "source": [
    "# python\n",
    "logging.basicConfig(\n",
    "    level=logging.INFO,\n",
    "    format=\"%(asctime)s - %(name)s - %(levelname)s - %(message)s\",\n",
    "    handlers=[\n",
    "        logging.FileHandler(\"logs/parsing.log\"),\n",
    "        logging.StreamHandler()\n",
    "    ]\n",
    ")"
   ]
  },
  {
   "cell_type": "markdown",
   "id": "e4eeff95-89f5-495c-80bb-9bbf446718f6",
   "metadata": {},
   "source": [
    "#### 5. Пример .gitignore"
   ]
  },
  {
   "cell_type": "code",
   "execution_count": null,
   "id": "6ba32762-c03d-4fde-bf77-15fd25f2a0c5",
   "metadata": {},
   "outputs": [],
   "source": [
    "# gitignore\n",
    "# Секреты\n",
    ".env\n",
    "credentials.json\n",
    "data/encrypted/*\n",
    "\n",
    "# Виртуальное окружение\n",
    "venv/\n",
    ".env/\n",
    "\n",
    "# Кеши и временные файлы\n",
    "__pycache__/\n",
    "*.py[cod]\n",
    "data/raw/\n",
    "data/interim/\n",
    "data/state/\n",
    "\n",
    "# IDE\n",
    ".idea/\n",
    ".vscode/"
   ]
  },
  {
   "cell_type": "markdown",
   "id": "e7329376-4420-4a61-a1ea-a8e079fa92fc",
   "metadata": {},
   "source": [
    "#### 6. Как начать использовать\n",
    "- 1. Создайте структуру папок:"
   ]
  },
  {
   "cell_type": "code",
   "execution_count": null,
   "id": "5ed3cb01-9cdb-454a-8ab9-c4250303595c",
   "metadata": {},
   "outputs": [],
   "source": [
    "# bash\n",
    "mkdir -p news_parser/{config/sites,data/{raw,interim,processed,backups,state},logs,parsers/utils,storage,notifications}"
   ]
  },
  {
   "cell_type": "code",
   "execution_count": null,
   "id": "fdb8b080-0d58-465a-95c5-8fb37c9ec73a",
   "metadata": {},
   "outputs": [],
   "source": [
    "# - 2. Установите зависимости:\n",
    "# bash\n",
    "pip install -r requirements.txt"
   ]
  },
  {
   "cell_type": "code",
   "execution_count": null,
   "id": "1f66b3db-75e2-4a8a-895f-0635cd92ca83",
   "metadata": {},
   "outputs": [],
   "source": [
    "# - 3. Заполните .env по образцу .env.example (создайте его для примера)."
   ]
  },
  {
   "cell_type": "markdown",
   "id": "abd139b9-d97f-4f0b-bbad-a0854349e0a4",
   "metadata": {},
   "source": [
    "#### 7. Следующие шаги\n",
    "Когда будете готовы продолжить, мы можем:\n",
    "\n",
    "- Реализовать систему плавного возобновления после сбоев.\n",
    "- Добавить мониторинг изменений на сайтах (алерт при изменении структуры).\n",
    "- Настроить автоматические бэкапы в облако (S3, Yandex Disk)."
   ]
  },
  {
   "cell_type": "code",
   "execution_count": null,
   "id": "0b4c4546-00ed-43a4-8cf9-bb9c1128597a",
   "metadata": {},
   "outputs": [],
   "source": []
  },
  {
   "cell_type": "markdown",
   "id": "075cfb4e-e605-4c36-94e5-477924fd7052",
   "metadata": {
    "jp-MarkdownHeadingCollapsed": true
   },
   "source": [
    "## 0. Виртуальное окружение (обязательно!)"
   ]
  },
  {
   "cell_type": "markdown",
   "id": "4b9d386c-a497-41d0-bff2-0e6fcf347fad",
   "metadata": {},
   "source": [
    "### Перед созданием файлов нужно изолировать зависимости проекта с помощью venv или conda:"
   ]
  },
  {
   "cell_type": "code",
   "execution_count": null,
   "id": "008b26c7-b937-45c9-bcfd-ae18a64dfb2c",
   "metadata": {},
   "outputs": [],
   "source": [
    "# bash\n",
    "python -m venv venv  # Создаем виртуальное окружение\n",
    "source venv/bin/activate  # Активируем (Linux/Mac)\n",
    "venv\\Scripts\\activate     # Активируем (Windows)"
   ]
  },
  {
   "cell_type": "markdown",
   "id": "7f37beaa-0528-4626-89ec-f16d70bafe15",
   "metadata": {},
   "source": [
    "### 2. Файл requirements.txt\n",
    "Все библиотеки из вашего кода нужно сохранить в файле requirements.txt:"
   ]
  },
  {
   "cell_type": "code",
   "execution_count": null,
   "id": "8915add0-742d-4bec-a843-6d19975f557f",
   "metadata": {},
   "outputs": [],
   "source": [
    "# text\n",
    "# requirements.txt\n",
    "beautifulsoup4==4.12.0\n",
    "requests==2.31.0\n",
    "selenium==4.15.0\n",
    "webdriver-manager==4.0.0\n",
    "pandas==2.1.0\n",
    "gspread==5.11.0\n",
    "telebot==0.0.5\n",
    "python-dotenv==1.0.0  # Для загрузки переменных окружения (например, токенов)"
   ]
  },
  {
   "cell_type": "code",
   "execution_count": null,
   "id": "adace305-6c90-40d7-a68a-3da7619b11f8",
   "metadata": {},
   "outputs": [],
   "source": [
    "# Команда для установки:\n",
    "# bash\n",
    "pip install -r requirements.txt"
   ]
  },
  {
   "cell_type": "markdown",
   "id": "a93caceb-96c0-495e-985a-f369a1ad4f89",
   "metadata": {},
   "source": [
    "### 3. Альтернатива: pyproject.toml (для современных проектов)\n",
    "Если проект сложный, можно использовать poetry или pipenv. Пример для pyproject.toml:"
   ]
  },
  {
   "cell_type": "code",
   "execution_count": null,
   "id": "32fb6c48-701f-43e0-a718-d9f867d15003",
   "metadata": {},
   "outputs": [],
   "source": [
    "# toml\n",
    "[project]\n",
    "dependencies = [\n",
    "    \"beautifulsoup4>=4.12.0\",\n",
    "    \"selenium>=4.15.0\",\n",
    "    \"gspread>=5.11.0\",\n",
    "]"
   ]
  },
  {
   "cell_type": "markdown",
   "id": "fbb2ac25-e81d-46c2-b4f0-84084d375b39",
   "metadata": {},
   "source": [
    "### 4. Отдельный файл для констант/настроек\n",
    "Библиотеки можно разделить на логические группы в файле config.py или constants.py:"
   ]
  },
  {
   "cell_type": "code",
   "execution_count": null,
   "id": "85cb6197-eecf-4bbc-8bca-bb305c550801",
   "metadata": {},
   "outputs": [],
   "source": [
    "# python\n",
    "# config.py\n",
    "# Основные\n",
    "import os\n",
    "import json\n",
    "from datetime import datetime\n",
    "\n",
    "# Парсинг\n",
    "from bs4 import BeautifulSoup\n",
    "import requests\n",
    "\n",
    "# Динамические сайты\n",
    "from selenium import webdriver\n",
    "from webdriver_manager.chrome import ChromeDriverManager\n",
    "\n",
    "# Google Sheets\n",
    "import gspread"
   ]
  },
  {
   "cell_type": "markdown",
   "id": "3ccdab39-2d6a-47e6-a0df-33d6ee14de56",
   "metadata": {},
   "source": [
    "### 5. Где хранить токены/ключи?\n",
    "Никогда не кладите их прямо в код! Используйте:\n",
    "Файл .env (через библиотеку python-dotenv):"
   ]
  },
  {
   "cell_type": "code",
   "execution_count": null,
   "id": "bbb5314e-b9ec-4662-9695-a740ce8f9554",
   "metadata": {},
   "outputs": [],
   "source": [
    "# text\n",
    "# .env\n",
    "TELEGRAM_BOT_TOKEN=your_token_here\n",
    "GSHEET_API_KEY=your_key_here"
   ]
  },
  {
   "cell_type": "markdown",
   "id": "91c00865-0e4a-4fac-a623-f2a3cafe403e",
   "metadata": {},
   "source": [
    "#### Или настройки ОС (через os.environ)."
   ]
  },
  {
   "cell_type": "markdown",
   "id": "08929c9c-4d2d-4ca6-a86b-726b701f173f",
   "metadata": {},
   "source": [
    "### 6. Рекомендации:\n",
    "#### 1. gitignore:\n",
    "Добавьте исключения для виртуального окружения и секретных файлов:"
   ]
  },
  {
   "cell_type": "code",
   "execution_count": null,
   "id": "44e3bb8c-e0b4-4b2e-9b96-f4f42f97ae46",
   "metadata": {},
   "outputs": [],
   "source": [
    "# text\n",
    "venv/\n",
    ".env\n",
    "*.bat\n",
    "__pycache__/"
   ]
  },
  {
   "cell_type": "markdown",
   "id": "6fbf10b2-dfc1-48a3-a490-592e15afde8d",
   "metadata": {},
   "source": [
    "#### 2. Автоматизация:\n",
    "Для .bat-файла (Windows) можно добавить команды активации окружения и запуска:"
   ]
  },
  {
   "cell_type": "code",
   "execution_count": null,
   "id": "149ba3a6-9e3e-408f-a949-290173d0dda9",
   "metadata": {},
   "outputs": [],
   "source": [
    "# bat\n",
    "@echo off\n",
    "call venv\\Scripts\\activate\n",
    "python main.py\n",
    "pause"
   ]
  },
  {
   "cell_type": "code",
   "execution_count": null,
   "id": "746b0e32-9afb-4864-aa56-b21d15782f28",
   "metadata": {},
   "outputs": [],
   "source": [
    "### "
   ]
  },
  {
   "cell_type": "code",
   "execution_count": null,
   "id": "b2397717-d165-4507-ab9c-b3fab1a27751",
   "metadata": {},
   "outputs": [],
   "source": []
  },
  {
   "cell_type": "markdown",
   "id": "c5635d56-e79c-4e0a-8b54-69fe3e37f029",
   "metadata": {
    "jp-MarkdownHeadingCollapsed": true
   },
   "source": [
    "## 1. Загрузка библиотек\n",
    "Все библиотеки для работы проекта в одном месте"
   ]
  },
  {
   "cell_type": "code",
   "execution_count": null,
   "id": "b5f98b42-1ae0-4e81-884d-01f15b9382ac",
   "metadata": {},
   "outputs": [],
   "source": [
    "# Загрузка библиотек\n",
    "# Для вспомогательных функций и основного парсера\n",
    "import os\n",
    "import requests\n",
    "from bs4 import BeautifulSoup\n",
    "from datetime import datetime\n",
    "from urllib.parse import urljoin\n",
    "\n",
    "# Для экспорта/импорта временных данных\n",
    "import json\n",
    "import csv\n",
    "\n",
    "# Для работы с динамическими сайтами\n",
    "from selenium import webdriver\n",
    "from selenium.webdriver.common.by import By\n",
    "from selenium.webdriver.chrome.service import Service\n",
    "from selenium.webdriver.chrome.options import Options\n",
    "from selenium.webdriver.common.action_chains import ActionChains\n",
    "from webdriver_manager.chrome import ChromeDriverManager\n",
    "import time\n",
    "import random\n",
    "\n",
    "# Обновление CSV/JSON с дедупликацией\n",
    "import pandas as pd\n",
    "\n",
    "# Google Sheets\n",
    "from gspread import Client, Spreadsheet, Worksheet, service_account, exceptions\n",
    "from typing import Optional, List, Dict\n",
    "\n",
    "# Библиотеки для ТелеБОТа\n",
    "import telebot\n",
    "# для указание типов\n",
    "from telebot import types\n",
    "# токен лежит в файле config.py\n",
    "import config"
   ]
  },
  {
   "cell_type": "code",
   "execution_count": null,
   "id": "8ab9a736-3a5e-458b-9f50-854b52740546",
   "metadata": {},
   "outputs": [],
   "source": []
  },
  {
   "cell_type": "markdown",
   "id": "4ecb0f62-d9ad-4d34-8793-7966284c46d4",
   "metadata": {
    "jp-MarkdownHeadingCollapsed": true
   },
   "source": [
    "## 2. DYNAMIC_PARSE()\n",
    "Динамически загружает контент с имитацией поведения человека."
   ]
  },
  {
   "cell_type": "markdown",
   "id": "90f90b47-4e6e-4d38-8553-4048890de485",
   "metadata": {},
   "source": [
    "#### Улучшения:\n",
    "1. Гибкость настроек:\n",
    "Вынесем параметры Selenium в конфиг (например, user_agent, timeout).\n",
    "\n",
    "2. Без промежуточного HTML:\n",
    "Убираем сохранение в файл (как вы и хотели).\n",
    "\n",
    "3. Логирование:\n",
    "Заменим print() на модуль logging.\n",
    "\n",
    "Обновлённый код:"
   ]
  },
  {
   "cell_type": "markdown",
   "id": "a1041f8e-96c5-4c7b-9d5a-a45077b1b7ca",
   "metadata": {},
   "source": [
    "### 1. Модификация dynamic_parse()"
   ]
  },
  {
   "cell_type": "code",
   "execution_count": null,
   "id": "62eef6eb-d117-4e6e-8ff5-1e642944a19e",
   "metadata": {},
   "outputs": [],
   "source": [
    "# \n",
    "from typing import Optional\n",
    "import logging\n",
    "from selenium.webdriver.remote.webdriver import WebDriver\n",
    "\n",
    "# Настройка логирования\n",
    "logging.basicConfig(level=logging.INFO)\n",
    "logger = logging.getLogger(__name__)\n",
    "\n",
    "def dynamic_parse(\n",
    "    url: str = \"https://vc.ru/new\",\n",
    "    max_scrolls: int = 10,\n",
    "    driver: Optional[WebDriver] = None\n",
    ") -> Optional[str]:\n",
    "    \"\"\"\n",
    "    Динамически загружает контент с имитацией поведения человека.\n",
    "    \n",
    "    Args:\n",
    "        url: URL для парсинга.\n",
    "        max_scrolls: Максимальное число прокруток.\n",
    "        driver: Опционально, существующий экземпляр WebDriver.\n",
    "        \n",
    "    Returns:\n",
    "        HTML-контент или None при ошибке.\n",
    "    \"\"\"\n",
    "    local_driver = None\n",
    "    try:\n",
    "        if not driver:\n",
    "            service = Service(ChromeDriverManager().install())\n",
    "            options = webdriver.ChromeOptions()\n",
    "            options.add_argument(\"--headless\")  # Для продакшена без GUI\n",
    "            options.add_argument(\"--disable-blink-features=AutomationControlled\")\n",
    "            options.add_argument(f\"user-agent={get_random_user_agent()}\")\n",
    "            local_driver = webdriver.Chrome(service=service, options=options)\n",
    "            driver = local_driver\n",
    "\n",
    "        driver.get(url)\n",
    "        \n",
    "        for count in range(1, max_scrolls + 1):\n",
    "            human_like_interaction(driver)\n",
    "            logger.info(f\"Прокрутка #{count} завершена\")\n",
    "            \n",
    "            # Обработка кнопки \"Показать ещё\" (если есть)\n",
    "            load_more_content(driver)\n",
    "\n",
    "        logger.info(\"✅ Динамический контент загружен\")\n",
    "        return driver.page_source\n",
    "\n",
    "    except Exception as e:\n",
    "        logger.error(f\"Ошибка в dynamic_parse: {type(e).__name__} - {e}\", exc_info=True)\n",
    "        return None\n",
    "    finally:\n",
    "        if local_driver:  # Закрываем только если создавали здесь\n",
    "            local_driver.quit()\n",
    "\n",
    "def get_random_user_agent() -> str:\n",
    "    \"\"\"Генерирует случайный User-Agent.\"\"\"\n",
    "    chrome_versions = range(90, 116)\n",
    "    return f\"Mozilla/5.0 (Windows NT 10.0; Win64; x64) AppleWebKit/537.36 (KHTML, like Gecko) Chrome/{random.choice(chrome_versions)}.0.0.0 Safari/537.36\"\n",
    "\n",
    "def load_more_content(driver: WebDriver) -> None:\n",
    "    \"\"\"Пытается найти и нажать кнопку 'Показать ещё'.\"\"\"\n",
    "    try:\n",
    "        more_btn = driver.find_element(By.CSS_SELECTOR, \".button-more\")\n",
    "        if more_btn.is_displayed():\n",
    "            more_btn.click()\n",
    "            time.sleep(random.uniform(2, 4))\n",
    "    except Exception:\n",
    "        pass"
   ]
  },
  {
   "cell_type": "code",
   "execution_count": null,
   "id": "704e1b3a-8947-487f-9307-249ebf37dc26",
   "metadata": {},
   "outputs": [],
   "source": []
  },
  {
   "cell_type": "markdown",
   "id": "9ac85fb3-9de4-4605-9678-e30b7ff154ee",
   "metadata": {},
   "source": [
    "### 2. Модификация human_like_interaction()"
   ]
  },
  {
   "cell_type": "markdown",
   "id": "db652dba-815e-4ea3-a345-b0d448f75d3e",
   "metadata": {},
   "source": [
    "#### Улучшения:\n",
    "1. Разделение логики:\n",
    "Вынесем плавную прокрутку и hover в отдельные функции.\n",
    "\n",
    "2. Конфигурируемость:\n",
    "Параметры (паузы, вероятность hover) можно вынести в конфиг.\n",
    "\n",
    "Обновлённый код:"
   ]
  },
  {
   "cell_type": "code",
   "execution_count": null,
   "id": "bbed5788-de5b-4cc9-93df-f35cef8bb1e0",
   "metadata": {},
   "outputs": [],
   "source": [
    "# \n",
    "def human_like_interaction(driver: WebDriver) -> None:\n",
    "    \"\"\"Имитирует действия человека.\"\"\"\n",
    "    smooth_scroll(driver)\n",
    "    random_hover(driver)\n",
    "\n",
    "def smooth_scroll(driver: WebDriver, scroll_amount: Optional[int] = None) -> None:\n",
    "    \"\"\"Плавная прокрутка страницы.\"\"\"\n",
    "    scroll_pause = random.uniform(3, 5)\n",
    "    scroll_amount = scroll_amount or random.randint(800, 1200)\n",
    "    driver.execute_script(f\"window.scrollBy(0, {scroll_amount});\")\n",
    "    time.sleep(scroll_pause)\n",
    "\n",
    "def random_hover(driver: WebDriver, probability: float = 0.3) -> None:\n",
    "    \"\"\"Случайный hover на элементы (по умолчанию 30% вероятность).\"\"\"\n",
    "    if random.random() > probability:\n",
    "        elements = driver.find_elements(By.CSS_SELECTOR, \".content-title, .author__name, .content-header__item\")\n",
    "        if elements:\n",
    "            element = random.choice(elements)\n",
    "            ActionChains(driver).move_to_element(element).pause(1).perform()\n",
    "            time.sleep(random.uniform(1, 2))"
   ]
  },
  {
   "cell_type": "code",
   "execution_count": null,
   "id": "7c900bf5-4b84-4e59-9b7d-0fc613500ad6",
   "metadata": {},
   "outputs": [],
   "source": []
  },
  {
   "cell_type": "markdown",
   "id": "eb23ac73-4faa-49f9-bbbd-4fe41224b8f4",
   "metadata": {},
   "source": [
    "### Интеграция в проект"
   ]
  },
  {
   "cell_type": "code",
   "execution_count": null,
   "id": "d36a2fda-af68-48c8-90f9-b731776db6b8",
   "metadata": {},
   "outputs": [],
   "source": [
    "# Пример использования:\n",
    "from parsers.dynamic import dynamic_parse\n",
    "\n",
    "html = dynamic_parse(max_scrolls=5)\n",
    "if html:\n",
    "    # Парсим \"с лёту\" без сохранения в файл\n",
    "    soup = BeautifulSoup(html, 'html.parser')\n",
    "    # ... обработка данных ..."
   ]
  },
  {
   "cell_type": "code",
   "execution_count": null,
   "id": "9786b0d9-9f80-469c-9e64-52b220bd0626",
   "metadata": {},
   "outputs": [],
   "source": [
    "# \n"
   ]
  },
  {
   "cell_type": "markdown",
   "id": "421dc406-99d8-47ba-98d9-0a3cc0f39a23",
   "metadata": {},
   "source": [
    "### 4. Что дальше?\n",
    "1. Тестирование:\n",
    "Проверить работу с разными сайтами.\n",
    "Добавить обработку капчи (если появится).\n",
    "\n",
    "2. Оптимизация:\n",
    "Кеширование драйвера (не создавать его каждый раз).\n",
    "\n",
    "3. Безопасность:\n",
    "Проверка url на валидность перед запросом."
   ]
  },
  {
   "cell_type": "code",
   "execution_count": null,
   "id": "64304a69-c823-431b-aed3-2f31bb7acfe5",
   "metadata": {},
   "outputs": [],
   "source": [
    "# bash\n"
   ]
  },
  {
   "cell_type": "code",
   "execution_count": null,
   "id": "0a44acb8-6a6c-429b-8a0b-ed7f16580c53",
   "metadata": {},
   "outputs": [],
   "source": []
  },
  {
   "cell_type": "markdown",
   "id": "b978660f-a72b-4447-bdc8-f17b32b5022f",
   "metadata": {
    "jp-MarkdownHeadingCollapsed": true
   },
   "source": [
    "## 3. PARSE_ARTICLES\n",
    "Запуск основной функции парсинга"
   ]
  },
  {
   "cell_type": "markdown",
   "id": "d120fddc-dec1-4c48-9920-712dbeeef8a9",
   "metadata": {},
   "source": [
    "### 1. ООП-подход: Создание парсеров для каждого сайта\n",
    "Идея:\n",
    "Создаем базовый класс BaseParser с общими методами, а для каждого сайта — наследника с конкретной реализацией.\n",
    "\n",
    "#### 1.1. Базовая структура"
   ]
  },
  {
   "cell_type": "code",
   "execution_count": null,
   "id": "87a2d793-7cc5-41bd-be60-efa5d13d8cee",
   "metadata": {},
   "outputs": [],
   "source": [
    "# \n",
    "from abc import ABC, abstractmethod\n",
    "from typing import Dict, List, Optional\n",
    "from bs4 import BeautifulSoup\n",
    "\n",
    "class BaseParser(ABC):\n",
    "    def __init__(self, host: str):\n",
    "        self.host = host\n",
    "\n",
    "    @abstractmethod\n",
    "    def parse_articles(self, html: str) -> List[Dict]:\n",
    "        \"\"\"Основной метод парсинга. Должен быть реализован для каждого сайта.\"\"\"\n",
    "        pass\n",
    "\n",
    "    # Общие вспомогательные методы (можно переопределять)\n",
    "    def get_text_or_none(self, parent, selector: str) -> Optional[str]:\n",
    "        element = parent.select_one(selector)\n",
    "        return element.get_text(strip=True) if element else None\n",
    "\n",
    "    def get_link(self, parent, selector: str) -> Optional[str]:\n",
    "        element = parent.select_one(selector)\n",
    "        return urljoin(self.host, element['href']) if element and 'href' in element.attrs else None"
   ]
  },
  {
   "cell_type": "markdown",
   "id": "7b5798d5-a26e-4c02-aea4-d38c622c251c",
   "metadata": {},
   "source": [
    "#### 1.2. Пример для vc.ru"
   ]
  },
  {
   "cell_type": "code",
   "execution_count": null,
   "id": "4748e477-63ea-42a1-b184-4c07dc1c5a0e",
   "metadata": {},
   "outputs": [],
   "source": [
    "# \n",
    "class VcRuParser(BaseParser):\n",
    "    def parse_articles(self, html: str) -> List[Dict]:\n",
    "        soup = BeautifulSoup(html, 'html.parser')\n",
    "        articles = soup.find('div', class_='content-list')\n",
    "        if not articles:\n",
    "            raise ValueError(\"Секция с новостями не найдена\")\n",
    "\n",
    "        results = []\n",
    "        for article in articles.find_all('div', class_='content--short'):\n",
    "            data = {\n",
    "                'title': self.get_text_or_none(article, 'div.content-title'),\n",
    "                'author': self.get_text_or_none(article, 'a.author__name'),\n",
    "                'link': self.get_link(article, 'a.content__link'),\n",
    "                'category': self._extract_category(article),\n",
    "            }\n",
    "            results.append(data)\n",
    "        return results\n",
    "\n",
    "    def _extract_category(self, article) -> Optional[str]:\n",
    "        \"\"\"Уникальный метод для vc.ru.\"\"\"\n",
    "        url = self.get_link(article, 'a.content__link')\n",
    "        if not url:\n",
    "            return None\n",
    "        parts = url.replace(self.host, '').strip('/').split('/')\n",
    "        return parts[0] if parts else None"
   ]
  },
  {
   "cell_type": "code",
   "execution_count": null,
   "id": "14612329-54a2-479e-a006-f5a429921161",
   "metadata": {},
   "outputs": [],
   "source": []
  },
  {
   "cell_type": "markdown",
   "id": "f3632cd7-ffa9-4662-a83f-a95311fdd537",
   "metadata": {},
   "source": [
    "#### 1.3. Использование"
   ]
  },
  {
   "cell_type": "code",
   "execution_count": null,
   "id": "2e69705e-7bec-4c65-b00f-51d0d574e073",
   "metadata": {},
   "outputs": [],
   "source": [
    "# \n",
    "parser = VcRuParser(host=\"https://vc.ru\")\n",
    "html = dynamic_parse(url=\"https://vc.ru/new\")\n",
    "articles = parser.parse_articles(html)"
   ]
  },
  {
   "cell_type": "code",
   "execution_count": null,
   "id": "b0d1e756-bb27-4fa6-b504-8a0e176aa149",
   "metadata": {},
   "outputs": [],
   "source": []
  },
  {
   "cell_type": "markdown",
   "id": "f3cefbaa-b02c-4834-800d-fd12a3bc6e05",
   "metadata": {},
   "source": [
    "### 2. Конфигурационный подход (без ООП)\n",
    "Идея:\n",
    "Храним CSS-селекторы для каждого сайта в конфиге (JSON/YAML), а парсер использует их динамически.\n",
    "\n",
    "#### 2.1. Конфиг (config/sites/vc.ru.json):"
   ]
  },
  {
   "cell_type": "code",
   "execution_count": null,
   "id": "6a56c048-3117-4aa3-9f93-8edc9ed20767",
   "metadata": {},
   "outputs": [],
   "source": [
    "# json\n",
    "{\n",
    "  \"host\": \"https://vc.ru\",\n",
    "  \"selectors\": {\n",
    "    \"articles_container\": \"div.content-list\",\n",
    "    \"article\": \"div.content--short\",\n",
    "    \"fields\": {\n",
    "      \"title\": \"div.content-title\",\n",
    "      \"author\": \"a.author__name\",\n",
    "      \"link\": \"a.content__link\"\n",
    "    }\n",
    "  },\n",
    "  \"custom_functions\": {\n",
    "    \"category\": \"extract_vc_ru_category\"\n",
    "  }\n",
    "}"
   ]
  },
  {
   "cell_type": "markdown",
   "id": "37f89a6a-d9b9-49fd-9b2d-300683992d05",
   "metadata": {},
   "source": [
    "#### 2.2. Универсальный парсер"
   ]
  },
  {
   "cell_type": "code",
   "execution_count": null,
   "id": "1ee02580-b394-4b22-9ebb-a49f948f7f66",
   "metadata": {},
   "outputs": [],
   "source": [
    "# \n",
    "def parse_with_config(html: str, config: Dict) -> List[Dict]:\n",
    "    soup = BeautifulSoup(html, 'html.parser')\n",
    "    articles = soup.select_one(config['selectors']['articles_container'])\n",
    "    results = []\n",
    "\n",
    "    for article in articles.select(config['selectors']['article']):\n",
    "        data = {}\n",
    "        for field, selector in config['selectors']['fields'].items():\n",
    "            data[field] = get_text_or_none(article, selector)\n",
    "        \n",
    "        # Кастомная логика (например, категория)\n",
    "        if 'custom_functions' in config:\n",
    "            for field, func_name in config['custom_functions'].items():\n",
    "                data[field] = globals()[func_name](article)\n",
    "        results.append(data)\n",
    "    return results"
   ]
  },
  {
   "cell_type": "code",
   "execution_count": null,
   "id": "a930dd67-66ff-4669-b78f-3ef9265c6c4f",
   "metadata": {},
   "outputs": [],
   "source": []
  },
  {
   "cell_type": "markdown",
   "id": "908f5bc1-b07a-4dab-9256-b059e1a039d6",
   "metadata": {},
   "source": [
    "### 3. Гибридный подход (ООП + Конфиги)\n",
    "Идея:\n",
    "Комбинируем оба метода. Базовый класс парсера загружает конфиг, но позволяет переопределять сложную логику."
   ]
  },
  {
   "cell_type": "code",
   "execution_count": null,
   "id": "9772bbf0-a6fe-4ebd-bad2-86ace9652a44",
   "metadata": {},
   "outputs": [],
   "source": [
    "# \n",
    "class ConfigurableParser(BaseParser):\n",
    "    def __init__(self, config_path: str):\n",
    "        with open(config_path) as f:\n",
    "            self.config = json.load(f)\n",
    "        super().__init__(self.config['host'])\n",
    "\n",
    "    def parse_articles(self, html: str) -> List[Dict]:\n",
    "        # Базовая логика из конфига\n",
    "        data = parse_with_config(html, self.config)\n",
    "        # Дополнительная обработка\n",
    "        return self.post_process(data)\n",
    "\n",
    "    def post_process(self, data: List[Dict]) -> List[Dict]:\n",
    "        \"\"\"Можно переопределить в дочерних классах.\"\"\"\n",
    "        return data"
   ]
  },
  {
   "cell_type": "code",
   "execution_count": null,
   "id": "7c790f7f-1535-4a84-a83d-cc6e7232d6b7",
   "metadata": {},
   "outputs": [],
   "source": []
  },
  {
   "cell_type": "markdown",
   "id": "b1b763f9-9c21-4748-b151-d50d4a70c40c",
   "metadata": {},
   "source": [
    "### 4. Обработка капчи и защит\n",
    "Для обхода защит:\n",
    "##### 1. Rotate User-Agents и прокси:\n",
    "Используйте библиотеку fake-useragent и сервисы типа ScraperAPI."
   ]
  },
  {
   "cell_type": "markdown",
   "id": "5e651f24-3f12-4255-91f0-a3a1fd5a2188",
   "metadata": {},
   "source": [
    "##### 2. Задержки между запросами:"
   ]
  },
  {
   "cell_type": "code",
   "execution_count": null,
   "id": "c80619c5-6437-4a16-881f-963b1e02e768",
   "metadata": {},
   "outputs": [],
   "source": [
    "# Задержки между запросами:\n",
    "time.sleep(random.uniform(1, 3))"
   ]
  },
  {
   "cell_type": "markdown",
   "id": "11429cd9-a630-4cb0-bed9-345b46c64193",
   "metadata": {},
   "source": [
    "##### 3. Headless-браузер:\n",
    "В Selenium используйте --headless, но добавляйте человекообразные действия (как у вас в human_like_interaction)."
   ]
  },
  {
   "cell_type": "code",
   "execution_count": null,
   "id": "ef0a91d5-4577-4469-960d-deccb837aa9d",
   "metadata": {},
   "outputs": [],
   "source": []
  },
  {
   "cell_type": "markdown",
   "id": "f6f96607-86d5-4bbb-878a-484dfe4dd5e1",
   "metadata": {},
   "source": [
    "### Итог\n",
    "- Для 1-3 сайтов — ООП-подход (классы-парсеры).\n",
    "- Для 5+ сайтов — конфиги + возможность кастомной логики.\n",
    "- Сложные сайты (капча, JS) — Selenium + обходные методы."
   ]
  },
  {
   "cell_type": "code",
   "execution_count": null,
   "id": "83c52483-81a1-46ab-86c5-0664dc80550e",
   "metadata": {},
   "outputs": [],
   "source": []
  },
  {
   "cell_type": "markdown",
   "id": "a9b1f1b4-fb0a-4751-9822-c0ef897aef33",
   "metadata": {
    "jp-MarkdownHeadingCollapsed": true
   },
   "source": [
    "## 4. UPDATE_DATA\n",
    "Обновление CSV/JSON с дедупликацией (с доработкой для работы с форматами времени)"
   ]
  },
  {
   "cell_type": "code",
   "execution_count": null,
   "id": "dd5f0217-f8bd-44f2-8bdd-99332d614e40",
   "metadata": {},
   "outputs": [],
   "source": []
  },
  {
   "cell_type": "markdown",
   "id": "e4349c01-c70e-48f4-b8ba-e50b4d3a93c4",
   "metadata": {},
   "source": [
    "### 1. Улучшенная версия update_data()"
   ]
  },
  {
   "cell_type": "code",
   "execution_count": null,
   "id": "559988c5-a2ef-489f-9f8f-d2ecb22ff971",
   "metadata": {},
   "outputs": [],
   "source": [
    "# \n",
    "import pandas as pd\n",
    "from pathlib import Path\n",
    "from typing import List, Dict, Optional\n",
    "import logging\n",
    "from datetime import datetime\n",
    "\n",
    "# Настройка логирования\n",
    "logging.basicConfig(level=logging.INFO)\n",
    "logger = logging.getLogger(__name__)\n",
    "\n",
    "def update_data(\n",
    "    new_data: List[Dict],\n",
    "    csv_path: str = \"data/output/articles.csv\",\n",
    "    json_path: str = \"data/output/articles.json\",\n",
    "    date_format: str = \"%d.%m.%Y. %H:%M:%S\",\n",
    "    dedup_key: str = \"title\"\n",
    ") -> Optional[pd.DataFrame]:\n",
    "    \"\"\"\n",
    "    Обновляет данные с дедупликацией, сохраняя первую дату появления записи.\n",
    "    \n",
    "    Args:\n",
    "        new_data: Список новых данных в виде словарей.\n",
    "        csv_path: Путь к CSV-файлу.\n",
    "        json_path: Путь к JSON-файлу.\n",
    "        date_format: Формат даты для парсинга.\n",
    "        dedup_key: Поле для дедупликации (по умолчанию 'title').\n",
    "        \n",
    "    Returns:\n",
    "        DataFrame с обновлёнными данными или None при ошибке.\n",
    "    \"\"\"\n",
    "    try:\n",
    "        # Создаём директории, если их нет\n",
    "        Path(csv_path).parent.mkdir(parents=True, exist_ok=True)\n",
    "        \n",
    "        # Загрузка старых данных\n",
    "        old_df = load_existing_data(csv_path, date_format)\n",
    "        \n",
    "        # Обработка новых данных\n",
    "        new_df = pd.DataFrame(new_data)\n",
    "        new_df[\"parse_datetime\"] = pd.to_datetime(\n",
    "            new_df[\"parse_datetime\"], \n",
    "            format=date_format,\n",
    "            dayfirst=True\n",
    "        )\n",
    "        \n",
    "        # Объединение и дедупликация\n",
    "        combined_df = deduplicate_data(old_df, new_df, dedup_key)\n",
    "        combined_df[\"parse_datetime\"] = combined_df[\"parse_datetime\"].dt.strftime(date_format)\n",
    "        \n",
    "        # Сохранение\n",
    "        save_data(combined_df, csv_path, json_path)\n",
    "        logger.info(f\"Данные обновлены. Уникальных записей: {len(combined_df)}\")\n",
    "        return combined_df\n",
    "        \n",
    "    except Exception as e:\n",
    "        logger.error(f\"Ошибка в update_data: {e}\", exc_info=True)\n",
    "        return None\n",
    "\n",
    "def load_existing_data(path: str, date_format: str) -> pd.DataFrame:\n",
    "    \"\"\"Загружает существующие данные из CSV.\"\"\"\n",
    "    try:\n",
    "        df = pd.read_csv(path)\n",
    "        df[\"parse_datetime\"] = pd.to_datetime(\n",
    "            df[\"parse_datetime\"], \n",
    "            format=date_format,\n",
    "            dayfirst=True\n",
    "        )\n",
    "        return df\n",
    "    except FileNotFoundError:\n",
    "        return pd.DataFrame()\n",
    "\n",
    "def deduplicate_data(\n",
    "    old_df: pd.DataFrame, \n",
    "    new_df: pd.DataFrame, \n",
    "    key: str\n",
    ") -> pd.DataFrame:\n",
    "    \"\"\"Объединяет и удаляет дубликаты.\"\"\"\n",
    "    combined_df = pd.concat([old_df, new_df], ignore_index=True)\n",
    "    combined_df[\"first_seen\"] = combined_df.groupby(key)[\"parse_datetime\"].transform(\"min\")\n",
    "    return (\n",
    "        combined_df\n",
    "        .sort_values(\"parse_datetime\", ascending=False)\n",
    "        .drop_duplicates(key, keep=\"first\")\n",
    "        .drop(columns=\"first_seen\")\n",
    "    )\n",
    "\n",
    "def save_data(\n",
    "    df: pd.DataFrame, \n",
    "    csv_path: str, \n",
    "    json_path: str\n",
    ") -> None:\n",
    "    \"\"\"Сохраняет данные в CSV и JSON.\"\"\"\n",
    "    df.to_csv(csv_path, index=False, encoding='utf-8')\n",
    "    df.to_json(json_path, orient=\"records\", force_ascii=False, indent=2)"
   ]
  },
  {
   "cell_type": "code",
   "execution_count": null,
   "id": "b7f2b666-39ce-45ef-a4fb-c5d7b214f7fb",
   "metadata": {},
   "outputs": [],
   "source": []
  },
  {
   "cell_type": "markdown",
   "id": "2fab38e5-b055-4285-a152-7500c7e51eff",
   "metadata": {
    "jp-MarkdownHeadingCollapsed": true
   },
   "source": [
    "### 2. Подготовка к интеграции с БД"
   ]
  },
  {
   "cell_type": "markdown",
   "id": "0c9f3ce8-cb02-46c3-abe6-7d71aacc31e5",
   "metadata": {},
   "source": [
    "#### 2.1. Адаптер для БД\n",
    "Добавим абстрактный класс для работы с разными хранилищами:"
   ]
  },
  {
   "cell_type": "code",
   "execution_count": null,
   "id": "26fe3721-30eb-4a05-9763-3c0c4bafab7f",
   "metadata": {},
   "outputs": [],
   "source": [
    "# \n",
    "from abc import ABC, abstractmethod\n",
    "\n",
    "class DataStorage(ABC):\n",
    "    @abstractmethod\n",
    "    def save(self, data: pd.DataFrame) -> bool:\n",
    "        pass\n",
    "    \n",
    "    @abstractmethod\n",
    "    def load(self) -> pd.DataFrame:\n",
    "        pass\n",
    "\n",
    "# Пример реализации для PostgreSQL\n",
    "class PostgresStorage(DataStorage):\n",
    "    def __init__(self, connection_string: str):\n",
    "        self.conn = psycopg2.connect(connection_string)\n",
    "        \n",
    "    def save(self, data: pd.DataFrame) -> bool:\n",
    "        try:\n",
    "            data.to_sql(\"articles\", self.conn, if_exists=\"replace\", index=False)\n",
    "            return True\n",
    "        except Exception as e:\n",
    "            logger.error(f\"Ошибка сохранения в PostgreSQL: {e}\")\n",
    "            return False\n",
    "\n",
    "# Пример для Git (версионирование данных)\n",
    "class GitDataStorage:\n",
    "    def __init__(self, repo_path: str):\n",
    "        self.repo = git.Repo(repo_path)\n",
    "        \n",
    "    def commit_data(self, message: str):\n",
    "        self.repo.git.add(\"data/\")\n",
    "        self.repo.index.commit(message)"
   ]
  },
  {
   "cell_type": "code",
   "execution_count": null,
   "id": "0df311de-a3d1-4e9f-940a-0556c372677c",
   "metadata": {},
   "outputs": [],
   "source": []
  },
  {
   "cell_type": "markdown",
   "id": "61487d08-29c7-49f0-acfb-0ba8023d52e6",
   "metadata": {},
   "source": [
    "### 3. Защита данных"
   ]
  },
  {
   "cell_type": "markdown",
   "id": "bed611ce-bb7a-4c20-98d0-ed2867ba81bc",
   "metadata": {},
   "source": [
    "#### 3.1. Шифрование чувствительных полей"
   ]
  },
  {
   "cell_type": "code",
   "execution_count": null,
   "id": "6537fa7a-59cd-43b0-8b57-e7f8e4b7a392",
   "metadata": {},
   "outputs": [],
   "source": [
    "# \n",
    "from cryptography.fernet import Fernet\n",
    "\n",
    "class DataEncryptor:\n",
    "    def __init__(self, key: str):\n",
    "        self.cipher = Fernet(key.encode())\n",
    "        \n",
    "    def encrypt_field(self, value: str) -> str:\n",
    "        return self.cipher.encrypt(value.encode()).decode()\n",
    "        \n",
    "    def decrypt_field(self, value: str) -> str:\n",
    "        return self.cipher.decrypt(value.encode()).decode()"
   ]
  },
  {
   "cell_type": "code",
   "execution_count": null,
   "id": "f635487a-035c-4ac6-be2d-f0ba5c77eaf2",
   "metadata": {},
   "outputs": [],
   "source": [
    "# \n"
   ]
  },
  {
   "cell_type": "markdown",
   "id": "b8f21213-96e2-49f3-8d1c-64c828be54a5",
   "metadata": {},
   "source": [
    "#### 3.2. Пример использования"
   ]
  },
  {
   "cell_type": "code",
   "execution_count": null,
   "id": "f8ee1cec-dd44-4f4c-b5af-31bd059927e3",
   "metadata": {},
   "outputs": [],
   "source": [
    "# \n",
    "encryptor = DataEncryptor(os.getenv(\"ENCRYPTION_KEY\"))\n",
    "df[\"author\"] = df[\"author\"].apply(encryptor.encrypt_field)"
   ]
  },
  {
   "cell_type": "code",
   "execution_count": null,
   "id": "b29567a0-e80b-452e-879a-03ca07764267",
   "metadata": {},
   "outputs": [],
   "source": []
  },
  {
   "cell_type": "markdown",
   "id": "9edf39b8-e509-4bf8-9ed8-240b58181bd5",
   "metadata": {},
   "source": [
    "### 4. Архитектура хранения"
   ]
  },
  {
   "cell_type": "markdown",
   "id": "e87c3177-c8b4-47f9-994e-fdfd6af87e81",
   "metadata": {},
   "source": [
    "#### 4.1. Варианты размещения данных\n",
    "Способ              Плюсы\t                      Минусы\n",
    "Локальные CSV/JSON\tПростота, не требует сервера  Нет версионности, сложный поиск\n",
    "PostgreSQL\t        Поддержка сложных запросов\t  Требует сервер\n",
    "Git-репозиторий\t    История изменений, бэкапы\t  Медленная работа с большими файлами\n",
    "Google Sheets\t    Доступ из любого места\t      Ограничения API"
   ]
  },
  {
   "cell_type": "markdown",
   "id": "84852860-1ff2-4002-bcce-51e5c1c5d79d",
   "metadata": {},
   "source": [
    "### 5. Интеграция с планировщиком"
   ]
  },
  {
   "cell_type": "code",
   "execution_count": null,
   "id": "94c0a7b1-bb05-4f10-b551-a350a5c6d7ae",
   "metadata": {},
   "outputs": [],
   "source": [
    "# Пример .bat-файла для автоматического обновления:\n",
    "# bat\n",
    "@echo off\n",
    "call venv\\Scripts\\activate\n",
    "python -c \"from main import update_all; update_all()\"\n",
    "git add data/processed/\n",
    "git commit -m \"Auto-update: %date% %time%\"\n",
    "git push"
   ]
  },
  {
   "cell_type": "markdown",
   "id": "6f492db3-9267-46e4-a558-d1df9218dcf4",
   "metadata": {},
   "source": [
    "### 6. Дальнейшие шаги\n",
    "1. Выбор хранилища:\n",
    "Для старта хватит CSV + Git.\n",
    "При росте данных — PostgreSQL.\n",
    "\n",
    "2. Резервное копирование:\n",
    "Автоматические бэкапы в облако (S3, Dropbox).\n",
    "\n",
    "3. Мониторинг:\n",
    "Логирование всех операций в logs/app.log."
   ]
  },
  {
   "cell_type": "code",
   "execution_count": null,
   "id": "3e1015b4-f563-4a30-af86-45c0dba820a9",
   "metadata": {},
   "outputs": [],
   "source": []
  },
  {
   "cell_type": "markdown",
   "id": "049c9ac7-6a2c-4323-b9c8-f5407b8b8db5",
   "metadata": {
    "jp-MarkdownHeadingCollapsed": true
   },
   "source": [
    "## 5. Функция EXPORT_TO_GOOGLE_SHEETS\n",
    "Код для \"умного\" обновления Google Sheets"
   ]
  },
  {
   "cell_type": "markdown",
   "id": "e4545fde-eb82-4804-a046-b527c8dcac06",
   "metadata": {},
   "source": [
    "### 1. Улучшенная версия функции"
   ]
  },
  {
   "cell_type": "code",
   "execution_count": null,
   "id": "3a7764fe-99ca-469a-bea6-a0f5ceb075bb",
   "metadata": {},
   "outputs": [],
   "source": [
    "# \n",
    "from typing import List, Dict, Optional, Union\n",
    "from gspread import Worksheet\n",
    "from google.oauth2.service_account import Credentials\n",
    "import logging\n",
    "from datetime import datetime\n",
    "\n",
    "def export_to_google_sheets(\n",
    "    data_source: Union[str, List[Dict]],  # Принимает JSON-файл или готовый список словарей\n",
    "    spreadsheet_id: str,\n",
    "    sheet_name: str = \"News\",\n",
    "    credentials_path: str = \"credentials.json\",\n",
    "    dedup_key: str = \"title\",  # Ключ для дедупликации\n",
    "    batch_size: int = 1000,    # Размер пачки для обновления (избегаем лимитов API)\n",
    "    time_format: str = \"%d.%m.%Y %H:%M:%S\"\n",
    ") -> Optional[int]:\n",
    "    \"\"\"\n",
    "    Экспортирует данные в Google Sheets с дедупликацией и поддержкой многолистовой структуры.\n",
    "    \n",
    "    Args:\n",
    "        data_source: Путь к JSON-файлу или список словарей с данными.\n",
    "        spreadsheet_id: ID Google Sheets.\n",
    "        sheet_name: Название листа (или 'auto' для автоматического выбора).\n",
    "        credentials_path: Путь к файлу учётных данных.\n",
    "        dedup_key: Поле для дедупликации.\n",
    "        batch_size: Максимальное количество строк для одного запроса API.\n",
    "        \n",
    "    Returns:\n",
    "        Количество уникальных записей или None при ошибке.\n",
    "    \"\"\"\n",
    "    try:\n",
    "        # --- Инициализация ---\n",
    "        creds = Credentials.from_service_account_file(credentials_path)\n",
    "        gc = gspread.authorize(creds)\n",
    "        spreadsheet = gc.open_by_key(spreadsheet_id)\n",
    "        \n",
    "        # --- Загрузка данных ---\n",
    "        if isinstance(data_source, str):\n",
    "            with open(data_source, 'r', encoding='utf-8') as f:\n",
    "                new_data = json.load(f)\n",
    "        else:\n",
    "            new_data = data_source\n",
    "            \n",
    "        if not new_data:\n",
    "            logging.warning(\"Нет данных для экспорта.\")\n",
    "            return 0\n",
    "\n",
    "        # --- Автовыбор листа для мультисайтового парсинга ---\n",
    "        if sheet_name == \"auto\":\n",
    "            sheet_name = infer_sheet_name(new_data[0])  # Пример: берём категорию из данных\n",
    "            \n",
    "        worksheet = get_or_create_worksheet(spreadsheet, sheet_name)\n",
    "        \n",
    "        # --- Дедупликация ---\n",
    "        old_data = worksheet.get_all_records()\n",
    "        unique_data = merge_and_deduplicate(old_data, new_data, dedup_key)\n",
    "        \n",
    "        # --- Форматирование дат ---\n",
    "        format_dates(unique_data, time_format)\n",
    "        \n",
    "        # --- Пакетная запись ---\n",
    "        update_worksheet(worksheet, unique_data, batch_size)\n",
    "        \n",
    "        logging.info(f\"Обновлено {len(unique_data)} записей в листе '{sheet_name}'\")\n",
    "        return len(unique_data)\n",
    "        \n",
    "    except Exception as e:\n",
    "        logging.error(f\"Ошибка экспорта: {e}\", exc_info=True)\n",
    "        return None"
   ]
  },
  {
   "cell_type": "code",
   "execution_count": null,
   "id": "d753853e-bb3a-40c6-a671-9958282f7305",
   "metadata": {},
   "outputs": [],
   "source": []
  },
  {
   "cell_type": "markdown",
   "id": "61fd6601-d68c-44cb-8d0a-99c59d0251cf",
   "metadata": {},
   "source": [
    "### 2. Ключевые улучшения"
   ]
  },
  {
   "cell_type": "markdown",
   "id": "ab9cf3b9-5550-4d9e-a9b3-3d2528c5dd7d",
   "metadata": {},
   "source": [
    "#### 2.1. Поддержка разных источников данных\n",
    "\n",
    "Теперь функция принимает:\n",
    "- Путь к JSON (data/output/articles.json)\n",
    "- Готовый список словарей (результат parse_articles())"
   ]
  },
  {
   "cell_type": "code",
   "execution_count": null,
   "id": "70f5e631-87e2-4f41-b86a-a3147bf47b9e",
   "metadata": {},
   "outputs": [],
   "source": [
    "# \n",
    "# Вариант 1: Из файла\n",
    "export_to_google_sheets(\"data/output/articles.json\", \"123abc\")\n",
    "\n",
    "# Вариант 2: Напрямую из памяти\n",
    "articles = parse_articles(html)\n",
    "export_to_google_sheets(articles, \"123abc\")"
   ]
  },
  {
   "cell_type": "code",
   "execution_count": null,
   "id": "1afdc3bb-101a-43d3-aa4f-b0e0f273af72",
   "metadata": {},
   "outputs": [],
   "source": []
  },
  {
   "cell_type": "markdown",
   "id": "008e3f13-ab74-4f64-adb6-ddb479c09c16",
   "metadata": {},
   "source": [
    "#### 2.2. Автоматический выбор листа\n",
    "Для парсинга разных сайтов/категорий:"
   ]
  },
  {
   "cell_type": "code",
   "execution_count": null,
   "id": "ed22cfb3-74b8-45ff-80b1-894305e347af",
   "metadata": {},
   "outputs": [],
   "source": [
    "# \n",
    "def infer_sheet_name(item: Dict) -> str:\n",
    "    \"\"\"Определяет имя листа на основе данных.\"\"\"\n",
    "    return item.get(\"category\", \"General\").replace(\"/\", \"_\")[:30]  # Ограничение Google"
   ]
  },
  {
   "cell_type": "code",
   "execution_count": null,
   "id": "91e9feb1-2fed-4330-b60e-c1e7131c5bbd",
   "metadata": {},
   "outputs": [],
   "source": [
    "# Пример использования:\n",
    "# Создаст листы \"VC_RU\", \"RBC\" и т.д.\n",
    "export_to_google_sheets(data, sheet_name=\"auto\")"
   ]
  },
  {
   "cell_type": "code",
   "execution_count": null,
   "id": "c56267d4-46aa-48be-8bed-c49cbe4d8cd3",
   "metadata": {},
   "outputs": [],
   "source": [
    "#### 2.3. Пакетная запись (batch update)\n",
    "Избегаем ограничений Google Sheets API:"
   ]
  },
  {
   "cell_type": "code",
   "execution_count": null,
   "id": "7329b3b9-a045-42fd-81a6-5c0e61327084",
   "metadata": {},
   "outputs": [],
   "source": [
    "# \n",
    "def update_worksheet(worksheet: Worksheet, data: List[Dict], batch_size: int) -> None:\n",
    "    \"\"\"Обновляет лист пачками.\"\"\"\n",
    "    headers = list(data[0].keys())\n",
    "    values = [headers] + [list(item.values()) for item in data]\n",
    "    \n",
    "    for i in range(0, len(values), batch_size):\n",
    "        batch = values[i:i + batch_size]\n",
    "        worksheet.update(f\"A{i+1}\", batch)"
   ]
  },
  {
   "cell_type": "markdown",
   "id": "e926221c-9f8b-4821-8f0c-46c47ecec17b",
   "metadata": {},
   "source": [
    "#### 2.4. Расширенная дедупликация"
   ]
  },
  {
   "cell_type": "code",
   "execution_count": null,
   "id": "afcd03d7-5699-49b3-9e46-c185119be4c5",
   "metadata": {},
   "outputs": [],
   "source": [
    "# \n",
    "def merge_and_deduplicate(old: List[Dict], new: List[Dict], key: str) -> List[Dict]:\n",
    "    \"\"\"Объединяет данные, сохраняя последнюю версию дубликатов.\"\"\"\n",
    "    combined = {item[key]: item for item in old}  # Старые данные\n",
    "    combined.update({item[key]: item for item in new})  # Перезаписываем новыми\n",
    "    return list(combined.values())"
   ]
  },
  {
   "cell_type": "code",
   "execution_count": null,
   "id": "0d9e96f7-a2dd-4c62-9f18-ee94054e4549",
   "metadata": {},
   "outputs": [],
   "source": []
  },
  {
   "cell_type": "markdown",
   "id": "69c3325a-99be-44ba-9268-c63bc8d1210c",
   "metadata": {},
   "source": [
    "### 3. Интеграция с многоплатформенным парсингом"
   ]
  },
  {
   "cell_type": "markdown",
   "id": "b0f78048-efd5-4b4a-9a53-2023c111d854",
   "metadata": {},
   "source": [
    "#### 3.1. Стратегия для разных сайтов\n",
    "Подход\t       Пример листа\t    Метод вызова\n",
    "Один лист\t   All_News\t        sheet_name=\"All_News\"\n",
    "По сайтам\t   VC_RU, RBC\t    sheet_name=\"auto\"\n",
    "По категориям  Marketing, Tech\tsheet_name=item[\"category\"]"
   ]
  },
  {
   "cell_type": "markdown",
   "id": "fe1cf4cd-a8c9-4051-8d4a-c75791949098",
   "metadata": {},
   "source": [
    "#### 3.2. Пример для VC.ru + RBC"
   ]
  },
  {
   "cell_type": "code",
   "execution_count": null,
   "id": "1b33759e-3da2-4a77-9bdb-fb931ce452bb",
   "metadata": {},
   "outputs": [],
   "source": [
    "# Парсим VC.ru\n",
    "vc_data = parse_articles(vc_html, host=\"https://vc.ru\")\n",
    "export_to_google_sheets(vc_data, \"123abc\", sheet_name=\"auto\")\n",
    "\n",
    "# Парсим RBC\n",
    "rbc_data = parse_articles(rbc_html, host=\"https://rbc.ru\")\n",
    "export_to_google_sheets(rbc_data, \"123abc\", sheet_name=\"auto\")"
   ]
  },
  {
   "cell_type": "code",
   "execution_count": null,
   "id": "25db087b-d3b2-49b7-ad87-45a736a6a000",
   "metadata": {},
   "outputs": [],
   "source": []
  },
  {
   "cell_type": "markdown",
   "id": "c7e237cf-dc43-4e96-b3ce-0d536cabc120",
   "metadata": {},
   "source": [
    "### 4. Дополнительные улучшения"
   ]
  },
  {
   "cell_type": "markdown",
   "id": "f8a77c45-ef69-4490-beed-b7e6d0827439",
   "metadata": {},
   "source": [
    "#### 4.1. Валидация данных"
   ]
  },
  {
   "cell_type": "code",
   "execution_count": null,
   "id": "6eb0017e-98b6-4218-9d80-3042fc65f61d",
   "metadata": {},
   "outputs": [],
   "source": [
    "# \n",
    "def validate_data(data: List[Dict]) -> bool:\n",
    "    \"\"\"Проверяет обязательные поля.\"\"\"\n",
    "    required_fields = {\"title\", \"link\", \"date\"}\n",
    "    return all(required_fields <= set(item.keys()) for item in data)"
   ]
  },
  {
   "cell_type": "markdown",
   "id": "80980fda-cb39-4fb7-9f6d-ba5985835e51",
   "metadata": {},
   "source": [
    "#### 4.2. Логирование изменений"
   ]
  },
  {
   "cell_type": "code",
   "execution_count": null,
   "id": "72b1f9f6-40f3-41f0-aa7c-a6baece5f9f1",
   "metadata": {},
   "outputs": [],
   "source": [
    "# \n",
    "def log_changes(added: int, updated: int, sheet_name: str) -> None:\n",
    "    \"\"\"Пишет историю изменений в отдельный лист.\"\"\"\n",
    "    log_entry = {\n",
    "        \"timestamp\": datetime.now().isoformat(),\n",
    "        \"sheet\": sheet_name,\n",
    "        \"action\": f\"Added: {added}, Updated: {updated}\"\n",
    "    }\n",
    "    # Запись в лист 'Logs'\n",
    "    ..."
   ]
  },
  {
   "cell_type": "markdown",
   "id": "747bc095-2812-4e77-bc22-b1c74188cf69",
   "metadata": {},
   "source": [
    "#### 4.3. Обновление только новых данных"
   ]
  },
  {
   "cell_type": "code",
   "execution_count": null,
   "id": "4ad939ba-e744-4fc6-b0d0-ddd080ed6cb2",
   "metadata": {},
   "outputs": [],
   "source": [
    "# Оптимизация для больших таблиц:\n",
    "last_update = worksheet.acell(\"A1\").value  # Дата последнего обновления\n",
    "new_items = [item for item in data if item[\"date\"] > last_update]"
   ]
  },
  {
   "cell_type": "code",
   "execution_count": null,
   "id": "f9a8301c-3442-4cdc-a745-1fba7136fb89",
   "metadata": {},
   "outputs": [],
   "source": []
  },
  {
   "cell_type": "markdown",
   "id": "807b2030-0c56-4ca0-a568-51a1507e4632",
   "metadata": {},
   "source": [
    "### 5. Пример итоговой структуры Google Sheets\n",
    "Лист\tНазначение\n",
    "VC_RU\tНовости с vc.ru\n",
    "RBC \tНовости с rbc.ru\n",
    "Logs\tИстория обновлений\n",
    "Config\tНастройки (например, dedup_key)"
   ]
  },
  {
   "cell_type": "markdown",
   "id": "31969d54-06d2-49ec-8b94-e42f2245ecbc",
   "metadata": {},
   "source": [
    "### 6. Рекомендации\n",
    "1. Разделение данных:\n",
    "Используйте отдельные листы, если источники/категории не связаны между собой.\n",
    "Для общего анализа удобнее один лист с полем source.\n",
    "\n",
    "2. Безопасность:\n",
    "Храните credentials.json вне репозитория (добавьте в .gitignore).\n",
    "Ограничьте права сервисного аккаунта в Google Cloud.\n",
    "\n",
    "3. Производительность:\n",
    "Для больших объёмов данных (>10K строк) используйте Google Sheets API batchUpdate."
   ]
  },
  {
   "cell_type": "code",
   "execution_count": null,
   "id": "b83c620d-b28b-4a8c-be00-e007d4ef1c5a",
   "metadata": {},
   "outputs": [],
   "source": []
  },
  {
   "cell_type": "markdown",
   "id": "9c1d3775-032e-4bb0-9ad7-9a5084f82898",
   "metadata": {
    "jp-MarkdownHeadingCollapsed": true
   },
   "source": [
    "## 6. START_PARSING\n",
    "Функция запуска парсинга (основная объединяющая функция)"
   ]
  },
  {
   "cell_type": "code",
   "execution_count": null,
   "id": "aeee3eea-5bd6-445c-9cb0-8915884bcba0",
   "metadata": {},
   "outputs": [],
   "source": []
  },
  {
   "cell_type": "markdown",
   "id": "8350d884-a5e0-4fbd-bc9b-35e1c66251c8",
   "metadata": {},
   "source": [
    "### 1. Улучшенная start_parsing() с обработкой ошибок"
   ]
  },
  {
   "cell_type": "code",
   "execution_count": null,
   "id": "87b5aaab-829c-40f3-91e7-410447db53ea",
   "metadata": {},
   "outputs": [],
   "source": [
    "# \n",
    "from typing import Optional, Dict\n",
    "import traceback\n",
    "from telebot.types import InlineKeyboardMarkup, InlineKeyboardButton\n",
    "\n",
    "def start_parsing(resume_from: Optional[str] = None) -> Dict[str, int]:\n",
    "    \"\"\"\n",
    "    Основная функция парсинга с возможностью возобновления.\n",
    "    \n",
    "    Args:\n",
    "        resume_from: Точка возобновления ('dynamic_parse', 'parse_articles', etc.)\n",
    "        \n",
    "    Returns:\n",
    "        Словарь с результатами: {\n",
    "            'total_articles': int,\n",
    "            'unique_articles': int,\n",
    "            'spreadsheet_url': str\n",
    "        }\n",
    "    \"\"\"\n",
    "    # Конфигурация\n",
    "    config = {\n",
    "        'chat_id': \"123456789\",\n",
    "        'host': \"https://vc.ru\",\n",
    "        'spreadsheet_id': \"1XQBizX0YVDsZ7PaHlNvnEVLwyOxUZuFJo0447ku6Qdg\",\n",
    "        'max_scrolls': 50\n",
    "    }\n",
    "    \n",
    "    # Результаты\n",
    "    result = {\n",
    "        'total_articles': 0,\n",
    "        'unique_articles': 0,\n",
    "        'spreadsheet_url': f\"https://docs.google.com/spreadsheets/d/{config['spreadsheet_id']}\"\n",
    "    }\n",
    "    \n",
    "    try:\n",
    "        # Этап 1: Стартовое сообщение\n",
    "        if not resume_from:\n",
    "            send_telegram_message(\n",
    "                chat_id=config['chat_id'],\n",
    "                text=f\"🚀 Запуск парсера VC.ru\\nВремя: {datetime.now().strftime('%Y-%m-%d %H:%M:%S')}\",\n",
    "                action=\"start\"\n",
    "            )\n",
    "\n",
    "        # Этап 2: Динамический парсинг\n",
    "        if not resume_from or resume_from == 'dynamic_parse':\n",
    "            html = dynamic_parse(max_scrolls=config['max_scrolls'])\n",
    "            save_html(html, \"data/interim/dynamic_page.html\")\n",
    "            resume_from = None  # Сброс после успешного выполнения\n",
    "\n",
    "        # Этап 3: Парсинг статей\n",
    "        if not resume_from or resume_from == 'parse_articles':\n",
    "            articles_data = parse_articles(html, config['host'])\n",
    "            result['total_articles'] = len(articles_data)\n",
    "            resume_from = None\n",
    "\n",
    "        # Этап 4: Обновление данных\n",
    "        if not resume_from or resume_from == 'update_data':\n",
    "            update_data(articles_data)\n",
    "            resume_from = None\n",
    "\n",
    "        # Этап 5: Экспорт в Google Sheets\n",
    "        if not resume_from or resume_from == 'export_to_google_sheets':\n",
    "            result['unique_articles'] = export_to_google_sheets(\n",
    "                data_source=articles_data,\n",
    "                spreadsheet_id=config['spreadsheet_id'],\n",
    "                sheet_name=\"VC.ru News\"\n",
    "            )\n",
    "            \n",
    "        # Успешное завершение\n",
    "        send_telegram_message(\n",
    "            chat_id=config['chat_id'],\n",
    "            text=f\"✅ Парсинг завершен!\\nУникальных записей: {result['unique_articles']}\",\n",
    "            action=\"finish\",\n",
    "            spreadsheet_url=result['spreadsheet_url']\n",
    "        )\n",
    "        \n",
    "        return result\n",
    "\n",
    "    except Exception as e:\n",
    "        error_info = {\n",
    "            'error': str(e),\n",
    "            'traceback': traceback.format_exc(),\n",
    "            'resume_point': resume_from or 'dynamic_parse'\n",
    "        }\n",
    "        \n",
    "        # Отправка ошибки в Telegram\n",
    "        send_telegram_message(\n",
    "            chat_id=config['chat_id'],\n",
    "            text=f\"🔥 Ошибка на этапе '{resume_from or 'dynamic_parse'}': {e}\",\n",
    "            action=\"error\",\n",
    "            error_info=error_info\n",
    "        )\n",
    "        \n",
    "        # Сохранение состояния для возобновления\n",
    "        save_failure_state(resume_from, articles_data if 'articles_data' in locals() else None)\n",
    "        raise  # Можно убрать для автоматического продолжения при следующем запуске"
   ]
  },
  {
   "cell_type": "code",
   "execution_count": null,
   "id": "2aa1f96d-83ec-4853-8282-24bc56f3c396",
   "metadata": {},
   "outputs": [],
   "source": []
  },
  {
   "cell_type": "markdown",
   "id": "ecd326da-d62f-47d9-ae9f-2d0a12da401e",
   "metadata": {},
   "source": [
    "### 2. Улучшенные Telegram-уведомления"
   ]
  },
  {
   "cell_type": "code",
   "execution_count": null,
   "id": "4edba068-2e8b-415e-bdaa-07f5bc1eaefd",
   "metadata": {},
   "outputs": [],
   "source": [
    "# \n",
    "def send_telegram_message(\n",
    "    chat_id: str,\n",
    "    text: str,\n",
    "    action: str = \"info\",\n",
    "    spreadsheet_url: Optional[str] = None,\n",
    "    error_info: Optional[Dict] = None\n",
    ") -> None:\n",
    "    \"\"\"\n",
    "    Отправляет интерактивные сообщения в Telegram.\n",
    "    \n",
    "    Args:\n",
    "        action: Тип действия ('start', 'finish', 'error', 'status')\n",
    "    \"\"\"\n",
    "    bot = telebot.TeleBot(config.token)\n",
    "    markup = None\n",
    "    \n",
    "    # Кнопки для разных сценариев\n",
    "    if action == \"finish\" and spreadsheet_url:\n",
    "        markup = InlineKeyboardMarkup()\n",
    "        markup.add(InlineKeyboardButton(\"📊 Открыть Google Sheets\", url=spreadsheet_url))\n",
    "        \n",
    "    elif action == \"error\":\n",
    "        markup = InlineKeyboardMarkup()\n",
    "        markup.add(\n",
    "            InlineKeyboardButton(\"🔄 Повторить попытку\", callback_data=\"retry\"),\n",
    "            InlineKeyboardButton(\"🔍 Подробности\", callback_data=f\"error_details:{error_info['resume_point']}\")\n",
    "        )\n",
    "    \n",
    "    # Отправка сообщения\n",
    "    try:\n",
    "        bot.send_message(\n",
    "            chat_id,\n",
    "            text,\n",
    "            reply_markup=markup,\n",
    "            parse_mode=\"Markdown\"\n",
    "        )\n",
    "    except Exception as e:\n",
    "        logging.error(f\"Ошибка отправки в Telegram: {e}\")\n",
    "    finally:\n",
    "        bot.stop_polling()\n",
    "\n",
    "# Обработчик кнопок\n",
    "@bot.callback_query_handler(func=lambda call: True)\n",
    "def handle_buttons(call):\n",
    "    if call.data == \"retry\":\n",
    "        bot.send_message(call.message.chat.id, \"Повторяю парсинг...\")\n",
    "        start_parsing(resume_from=call.message.text.split(\"'\")[-2])\n",
    "    elif call.data.startswith(\"error_details\"):\n",
    "        error_point = call.data.split(\":\")[1]\n",
    "        bot.send_message(\n",
    "            call.message.chat.id,\n",
    "            f\"Последняя точка сохранения: `{error_point}`\\n\"\n",
    "            f\"Для возобновления выполните:\\n```python\\nstart_parsing(resume_from='{error_point}')\\n```\",\n",
    "            parse_mode=\"Markdown\"\n",
    "        )"
   ]
  },
  {
   "cell_type": "code",
   "execution_count": null,
   "id": "ba4f4515-c35e-4226-903c-5c461a5966fc",
   "metadata": {},
   "outputs": [],
   "source": []
  },
  {
   "cell_type": "markdown",
   "id": "54cc7909-15ae-43d8-913a-f016d3052c55",
   "metadata": {},
   "source": [
    "### 3. Механизм возобновления работы"
   ]
  },
  {
   "cell_type": "code",
   "execution_count": null,
   "id": "1fac6138-5123-478b-ad3e-bb4792667f29",
   "metadata": {},
   "outputs": [],
   "source": [
    "# \n",
    "import pickle\n",
    "from pathlib import Path\n",
    "\n",
    "def save_failure_state(resume_point: str, data: Optional[List[Dict]] = None) -> None:\n",
    "    \"\"\"Сохраняет состояние для возобновления.\"\"\"\n",
    "    state = {\n",
    "        'resume_from': resume_point,\n",
    "        'data': data,\n",
    "        'timestamp': datetime.now().isoformat()\n",
    "    }\n",
    "    \n",
    "    Path(\"data/state\").mkdir(exist_ok=True)\n",
    "    with open(\"data/state/last_failure.pkl\", \"wb\") as f:\n",
    "        pickle.dump(state, f)\n",
    "\n",
    "def load_failure_state() -> Optional[Dict]:\n",
    "    \"\"\"Загружает последнее состояние при ошибке.\"\"\"\n",
    "    try:\n",
    "        with open(\"data/state/last_failure.pkl\", \"rb\") as f:\n",
    "            return pickle.load(f)\n",
    "    except FileNotFoundError:\n",
    "        return None"
   ]
  },
  {
   "cell_type": "code",
   "execution_count": null,
   "id": "9e03f0a0-faea-43b2-ba1d-d3854b251245",
   "metadata": {},
   "outputs": [],
   "source": []
  },
  {
   "cell_type": "code",
   "execution_count": null,
   "id": "bec0c59c-7086-41c9-81cc-7a396da7c799",
   "metadata": {},
   "outputs": [],
   "source": [
    "# \n"
   ]
  },
  {
   "cell_type": "markdown",
   "id": "3c2e45d6-f502-4e7e-9c40-5cae760f8456",
   "metadata": {},
   "source": [
    "### 4. Дополнительные улучшения"
   ]
  },
  {
   "cell_type": "markdown",
   "id": "19c2092a-ef5b-4a5d-9455-d3c97ed22a82",
   "metadata": {},
   "source": [
    "#### 4.1. Проверка состояния при запуске\n",
    "Добавьте в начало start_parsing():"
   ]
  },
  {
   "cell_type": "code",
   "execution_count": null,
   "id": "6b949dfc-dd1d-443c-8254-913c3fbfb27f",
   "metadata": {},
   "outputs": [],
   "source": [
    "# \n",
    "# Автоматическое возобновление\n",
    "if not resume_from:\n",
    "    last_state = load_failure_state()\n",
    "    if last_state:\n",
    "        choice = input(f\"Обнаружено незавершённое выполнение (ошибка на этапе '{last_state['resume_from']}'). Продолжить? (y/n): \")\n",
    "        if choice.lower() == 'y':\n",
    "            resume_from = last_state['resume_from']\n",
    "            articles_data = last_state['data']"
   ]
  },
  {
   "cell_type": "code",
   "execution_count": null,
   "id": "713e78be-dc1e-4ee8-b727-1db0d02de125",
   "metadata": {},
   "outputs": [],
   "source": []
  },
  {
   "cell_type": "markdown",
   "id": "53e76684-8501-45fb-84ec-b9abe2d30a85",
   "metadata": {},
   "source": [
    "#### 4.2. Промежуточные статусы"
   ]
  },
  {
   "cell_type": "code",
   "execution_count": null,
   "id": "7a817d14-71b7-45d7-bfd4-1e6e1d14b62e",
   "metadata": {},
   "outputs": [],
   "source": [
    "# Пример функции для отправки статусов:\n",
    "def send_status_update(chat_id: str, step: str, details: str) -> None:\n",
    "    \"\"\"Отправляет промежуточный статус.\"\"\"\n",
    "    steps = {\n",
    "        'dynamic_parse': \"🔄 Динамическая загрузка страницы\",\n",
    "        'parse_articles': \"📝 Парсинг новостей\",\n",
    "        'update_data': \"💾 Сохранение данных\",\n",
    "        'export': \"📤 Экспорт в Google Sheets\"\n",
    "    }\n",
    "    \n",
    "    send_telegram_message(\n",
    "        chat_id=chat_id,\n",
    "        text=f\"{steps.get(step, '🚀')} {details}\",\n",
    "        action=\"status\"\n",
    "    )"
   ]
  },
  {
   "cell_type": "code",
   "execution_count": null,
   "id": "232806c0-b1a2-4cc1-ab5c-b509df250c1e",
   "metadata": {},
   "outputs": [],
   "source": []
  },
  {
   "cell_type": "markdown",
   "id": "8bc3bd0c-fac7-4a9f-811a-cd984afe9b47",
   "metadata": {},
   "source": [
    "### 5. Пример использования"
   ]
  },
  {
   "cell_type": "markdown",
   "id": "3c9af5ff-9e78-4791-970e-87d0cacda31e",
   "metadata": {},
   "source": [
    "#### 5.1. Ручной запуск"
   ]
  },
  {
   "cell_type": "code",
   "execution_count": null,
   "id": "31eac220-19b7-4be3-9eb8-51d4431c7687",
   "metadata": {},
   "outputs": [],
   "source": [
    "# \n",
    "if __name__ == \"__main__\":\n",
    "    start_parsing()  # Обычный запуск\n",
    "    # Или с возобновлением:\n",
    "    # start_parsing(resume_from='parse_articles')"
   ]
  },
  {
   "cell_type": "markdown",
   "id": "2713ee4c-644c-44ed-9736-cfaf57cdd0f8",
   "metadata": {},
   "source": [
    "#### 5.2. Через планировщик задач"
   ]
  },
  {
   "cell_type": "code",
   "execution_count": null,
   "id": "f76da0bc-84c4-45ad-84ac-d5410d801438",
   "metadata": {},
   "outputs": [],
   "source": [
    "# Для Windows (run.bat):\n",
    "# bat\n",
    "@echo off\n",
    "call venv\\Scripts\\activate\n",
    "python -c \"from main import start_parsing; start_parsing()\""
   ]
  },
  {
   "cell_type": "code",
   "execution_count": null,
   "id": "04d21047-d0da-45db-9bb7-26d1b4e7c6a6",
   "metadata": {},
   "outputs": [],
   "source": []
  },
  {
   "cell_type": "markdown",
   "id": "12dbd240-81ea-431c-950b-b0f6ec7a3962",
   "metadata": {},
   "source": [
    "### 6. Итоговая архитектура уведомлений\n",
    "Тип сообщения\tКнопки\t               Пример текста\n",
    "Старт\t        -\t                   \"🚀 Начало парсинга VC.ru в 12:00\"\n",
    "Ошибка\t        Повторить/Подробности  \"🔥 Ошибка парсинга: timeout\"\n",
    "Статус\t        -\t                   \"📝 Парсинг: 42 новости обработаны\"\n",
    "Завершение\t    Открыть Google Sheets  \"✅ Успешно! 100 записей\""
   ]
  },
  {
   "cell_type": "code",
   "execution_count": null,
   "id": "15e818a7-b1f0-4559-a8c7-d0b16d812fdb",
   "metadata": {},
   "outputs": [],
   "source": []
  },
  {
   "cell_type": "markdown",
   "id": "53956782-7822-4f16-9d7e-bbf144d97088",
   "metadata": {},
   "source": [
    "### Рекомендации\n",
    "1. Логирование:\n",
    "Сохраняйте полный лог в файл logs/parsing_<date>.log.\n",
    "\n",
    "2. Конфигурация:\n",
    "Вынесите chat_id, spreadsheet_id в .env или config.py.\n",
    "\n",
    "3. Тестирование:\n",
    "Добавьте mock-тесты для Telegram API.\n",
    "\n",
    "### Эти изменения дают:\n",
    "\n",
    "✅ Возобновление после сбоев\n",
    "✅ Подробные уведомления в Telegram\n",
    "✅ Интерактивные элементы управления\n",
    "✅ Гибкую конфигурацию"
   ]
  },
  {
   "cell_type": "code",
   "execution_count": null,
   "id": "aa3e74db-4040-4f19-907a-3e81c03ee400",
   "metadata": {},
   "outputs": [],
   "source": []
  },
  {
   "cell_type": "code",
   "execution_count": null,
   "id": "b36c8160-c79f-4aad-ba21-0bfb5f0b1def",
   "metadata": {},
   "outputs": [],
   "source": []
  },
  {
   "cell_type": "code",
   "execution_count": null,
   "id": "aba5d67c-6404-4cfd-b45d-524f2e927c73",
   "metadata": {},
   "outputs": [],
   "source": []
  }
 ],
 "metadata": {
  "kernelspec": {
   "display_name": "Python 3 (ipykernel)",
   "language": "python",
   "name": "python3"
  },
  "language_info": {
   "codemirror_mode": {
    "name": "ipython",
    "version": 3
   },
   "file_extension": ".py",
   "mimetype": "text/x-python",
   "name": "python",
   "nbconvert_exporter": "python",
   "pygments_lexer": "ipython3",
   "version": "3.12.7"
  }
 },
 "nbformat": 4,
 "nbformat_minor": 5
}
